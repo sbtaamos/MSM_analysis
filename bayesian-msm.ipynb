{
 "cells": [
  {
   "cell_type": "markdown",
   "metadata": {},
   "source": [
    "# `BayesianMarkovStateModel`\n",
    "\n",
    "This example demonstrates the class `BayesianMarkovStateModel`, which uses Metropolis Markov chain Monte Carlo (MCMC) to sample\n",
    "over the posterior distribution of transition matrices, given the observed transitions in your dataset. This can be useful\n",
    "for evaluating the uncertainty due to sampling in your dataset."
   ]
  },
  {
   "cell_type": "code",
   "execution_count": 3,
   "metadata": {
    "collapsed": false
   },
   "outputs": [
    {
     "name": "stderr",
     "output_type": "stream",
     "text": [
      "/Users/sbamos/anaconda3/lib/python3.6/site-packages/sklearn/cross_validation.py:41: DeprecationWarning: This module was deprecated in version 0.18 in favor of the model_selection module into which all the refactored classes and functions are moved. Also note that the interface of the new CV iterators are different from that of this module. This module will be removed in 0.20.\n",
      "  \"This module will be removed in 0.20.\", DeprecationWarning)\n",
      "/Users/sbamos/anaconda3/lib/python3.6/site-packages/sklearn/grid_search.py:42: DeprecationWarning: This module was deprecated in version 0.18 in favor of the model_selection module into which all the refactored classes and functions are moved. This module will be removed in 0.20.\n",
      "  DeprecationWarning)\n",
      "/Users/sbamos/anaconda3/lib/python3.6/site-packages/statsmodels/compat/pandas.py:56: FutureWarning: The pandas.core.datetools module is deprecated and will be removed in a future version. Please use the pandas.tseries module instead.\n",
      "  from pandas.core import datetools\n"
     ]
    }
   ],
   "source": [
    "import numpy as np\n",
    "from matplotlib import pyplot as plt\n",
    "from mdtraj.utils import timing\n",
    "\n",
    "from msmbuilder.cluster import NDGrid\n",
    "from msmbuilder.msm import BayesianMarkovStateModel, MarkovStateModel"
   ]
  },
  {
   "cell_type": "markdown",
   "metadata": {},
   "source": [
    "## Load some double-well data"
   ]
  },
  {
   "cell_type": "code",
   "execution_count": null,
   "metadata": {
    "collapsed": false
   },
   "outputs": [
    {
     "name": "stdout",
     "output_type": "stream",
     "text": [
      "/Users/sbamos/Documents/WORK/MSM\n",
      "<mdtraj.Trajectory with 5001 frames, 447 atoms, 41 residues, and unitcells>\n",
      "<mdtraj.Trajectory with 5001 frames, 447 atoms, 41 residues, and unitcells>\n",
      "<mdtraj.Trajectory with 5001 frames, 447 atoms, 41 residues, and unitcells>\n",
      "<mdtraj.Trajectory with 5001 frames, 447 atoms, 41 residues, and unitcells>\n",
      "<mdtraj.Trajectory with 5001 frames, 447 atoms, 41 residues, and unitcells>\n"
     ]
    }
   ],
   "source": [
    "from msmbuilder.dataset import dataset\n",
    "import os\n",
    "import mdtraj as mdt\n",
    "import glob\n",
    "\n",
    "\n",
    "cwd = os.getcwd()\n",
    "print(cwd)\n",
    "\n",
    "## Load\n",
    "trjs = dataset(\"*SC*.xtc\", topology=\"md.loop_SC_start.gro\")\n",
    "    \n",
    "for traj in trjs:\n",
    "    print(traj)\n",
    "    \n",
    "plt.hist(np.concatenate(trjs), bins=50, log=True)\n",
    "plt.ylabel('Frequency')\n",
    "plt.show()"
   ]
  },
  {
   "cell_type": "markdown",
   "metadata": {},
   "source": [
    "## We'll discretize the space using 10 states\n",
    "\n",
    "And the build one MSM using the MLE transition matrix estimator, and one with the Bayesian estimator"
   ]
  },
  {
   "cell_type": "code",
   "execution_count": 5,
   "metadata": {
    "collapsed": false
   },
   "outputs": [
    {
     "ename": "ValueError",
     "evalue": "sequences must be a list of sequences",
     "output_type": "error",
     "traceback": [
      "\u001b[0;31m---------------------------------------------------------------------------\u001b[0m",
      "\u001b[0;31mValueError\u001b[0m                                Traceback (most recent call last)",
      "\u001b[0;32m<ipython-input-5-6258311c0f48>\u001b[0m in \u001b[0;36m<module>\u001b[0;34m()\u001b[0m\n\u001b[1;32m      3\u001b[0m \u001b[0mb_msm\u001b[0m \u001b[0;34m=\u001b[0m \u001b[0mBayesianMarkovStateModel\u001b[0m\u001b[0;34m(\u001b[0m\u001b[0mlag_time\u001b[0m\u001b[0;34m=\u001b[0m\u001b[0;36m100\u001b[0m\u001b[0;34m,\u001b[0m \u001b[0mn_samples\u001b[0m\u001b[0;34m=\u001b[0m\u001b[0;36m10000\u001b[0m\u001b[0;34m,\u001b[0m \u001b[0mn_steps\u001b[0m\u001b[0;34m=\u001b[0m\u001b[0;36m1000\u001b[0m\u001b[0;34m)\u001b[0m\u001b[0;34m\u001b[0m\u001b[0m\n\u001b[1;32m      4\u001b[0m \u001b[0;34m\u001b[0m\u001b[0m\n\u001b[0;32m----> 5\u001b[0;31m \u001b[0mstates\u001b[0m \u001b[0;34m=\u001b[0m \u001b[0mclusterer\u001b[0m\u001b[0;34m.\u001b[0m\u001b[0mfit_transform\u001b[0m\u001b[0;34m(\u001b[0m\u001b[0mtrjs\u001b[0m\u001b[0;34m)\u001b[0m\u001b[0;34m\u001b[0m\u001b[0m\n\u001b[0m\u001b[1;32m      6\u001b[0m \u001b[0;32mwith\u001b[0m \u001b[0mtiming\u001b[0m\u001b[0;34m(\u001b[0m\u001b[0;34m'running mcmc'\u001b[0m\u001b[0;34m)\u001b[0m\u001b[0;34m:\u001b[0m\u001b[0;34m\u001b[0m\u001b[0m\n\u001b[1;32m      7\u001b[0m     \u001b[0mb_msm\u001b[0m\u001b[0;34m.\u001b[0m\u001b[0mfit\u001b[0m\u001b[0;34m(\u001b[0m\u001b[0mstates\u001b[0m\u001b[0;34m)\u001b[0m\u001b[0;34m\u001b[0m\u001b[0m\n",
      "\u001b[0;32m~/anaconda3/lib/python3.6/site-packages/msmbuilder/cluster/base.py\u001b[0m in \u001b[0;36mfit_transform\u001b[0;34m(self, sequences, y)\u001b[0m\n\u001b[1;32m    171\u001b[0m     \u001b[0;32mdef\u001b[0m \u001b[0mfit_transform\u001b[0m\u001b[0;34m(\u001b[0m\u001b[0mself\u001b[0m\u001b[0;34m,\u001b[0m \u001b[0msequences\u001b[0m\u001b[0;34m,\u001b[0m \u001b[0my\u001b[0m\u001b[0;34m=\u001b[0m\u001b[0;32mNone\u001b[0m\u001b[0;34m)\u001b[0m\u001b[0;34m:\u001b[0m\u001b[0;34m\u001b[0m\u001b[0m\n\u001b[1;32m    172\u001b[0m         \u001b[0;34m\"\"\"Alias for fit_predict\"\"\"\u001b[0m\u001b[0;34m\u001b[0m\u001b[0m\n\u001b[0;32m--> 173\u001b[0;31m         \u001b[0;32mreturn\u001b[0m \u001b[0mself\u001b[0m\u001b[0;34m.\u001b[0m\u001b[0mfit_predict\u001b[0m\u001b[0;34m(\u001b[0m\u001b[0msequences\u001b[0m\u001b[0;34m,\u001b[0m \u001b[0my\u001b[0m\u001b[0;34m)\u001b[0m\u001b[0;34m\u001b[0m\u001b[0m\n\u001b[0m",
      "\u001b[0;32m~/anaconda3/lib/python3.6/site-packages/msmbuilder/cluster/base.py\u001b[0m in \u001b[0;36mfit_predict\u001b[0;34m(self, sequences, y)\u001b[0m\n\u001b[1;32m    151\u001b[0m         \"\"\"\n\u001b[1;32m    152\u001b[0m         \u001b[0;32mif\u001b[0m \u001b[0mhasattr\u001b[0m\u001b[0;34m(\u001b[0m\u001b[0msuper\u001b[0m\u001b[0;34m(\u001b[0m\u001b[0mMultiSequenceClusterMixin\u001b[0m\u001b[0;34m,\u001b[0m \u001b[0mself\u001b[0m\u001b[0;34m)\u001b[0m\u001b[0;34m,\u001b[0m \u001b[0;34m'fit_predict'\u001b[0m\u001b[0;34m)\u001b[0m\u001b[0;34m:\u001b[0m\u001b[0;34m\u001b[0m\u001b[0m\n\u001b[0;32m--> 153\u001b[0;31m             \u001b[0mcheck_iter_of_sequences\u001b[0m\u001b[0;34m(\u001b[0m\u001b[0msequences\u001b[0m\u001b[0;34m,\u001b[0m \u001b[0mallow_trajectory\u001b[0m\u001b[0;34m=\u001b[0m\u001b[0mself\u001b[0m\u001b[0;34m.\u001b[0m\u001b[0m_allow_trajectory\u001b[0m\u001b[0;34m)\u001b[0m\u001b[0;34m\u001b[0m\u001b[0m\n\u001b[0m\u001b[1;32m    154\u001b[0m             \u001b[0mlabels\u001b[0m \u001b[0;34m=\u001b[0m \u001b[0msuper\u001b[0m\u001b[0;34m(\u001b[0m\u001b[0mMultiSequenceClusterMixin\u001b[0m\u001b[0;34m,\u001b[0m \u001b[0mself\u001b[0m\u001b[0;34m)\u001b[0m\u001b[0;34m.\u001b[0m\u001b[0mfit_predict\u001b[0m\u001b[0;34m(\u001b[0m\u001b[0msequences\u001b[0m\u001b[0;34m)\u001b[0m\u001b[0;34m\u001b[0m\u001b[0m\n\u001b[1;32m    155\u001b[0m         \u001b[0;32melse\u001b[0m\u001b[0;34m:\u001b[0m\u001b[0;34m\u001b[0m\u001b[0m\n",
      "\u001b[0;32m~/anaconda3/lib/python3.6/site-packages/msmbuilder/utils/validation.py\u001b[0m in \u001b[0;36mcheck_iter_of_sequences\u001b[0;34m(sequences, allow_trajectory, ndim, max_iter)\u001b[0m\n\u001b[1;32m     53\u001b[0m \u001b[0;34m\u001b[0m\u001b[0m\n\u001b[1;32m     54\u001b[0m     \u001b[0;32mif\u001b[0m \u001b[0;32mnot\u001b[0m \u001b[0mvalue\u001b[0m\u001b[0;34m:\u001b[0m\u001b[0;34m\u001b[0m\u001b[0m\n\u001b[0;32m---> 55\u001b[0;31m         \u001b[0;32mraise\u001b[0m \u001b[0mValueError\u001b[0m\u001b[0;34m(\u001b[0m\u001b[0;34m'sequences must be a list of sequences'\u001b[0m\u001b[0;34m)\u001b[0m\u001b[0;34m\u001b[0m\u001b[0m\n\u001b[0m\u001b[1;32m     56\u001b[0m \u001b[0;34m\u001b[0m\u001b[0m\n\u001b[1;32m     57\u001b[0m \u001b[0;34m\u001b[0m\u001b[0m\n",
      "\u001b[0;31mValueError\u001b[0m: sequences must be a list of sequences"
     ]
    }
   ],
   "source": [
    "clusterer = NDGrid(n_bins_per_feature=10)\n",
    "mle_msm = MarkovStateModel(lag_time=100)\n",
    "b_msm = BayesianMarkovStateModel(lag_time=100, n_samples=10000, n_steps=1000)\n",
    "\n",
    "states = clusterer.fit_transform(trjs)\n",
    "with timing('running mcmc'):\n",
    "    b_msm.fit(states)\n",
    "\n",
    "mle_msm.fit(states)"
   ]
  },
  {
   "cell_type": "code",
   "execution_count": null,
   "metadata": {
    "collapsed": false
   },
   "outputs": [],
   "source": [
    "plt.subplot(2, 1, 1)\n",
    "plt.plot(b_msm.all_transmats_[:, 0, 0])\n",
    "plt.axhline(mle_msm.transmat_[0, 0], c='k')\n",
    "plt.ylabel('t_00')\n",
    "\n",
    "plt.subplot(2, 1, 2)\n",
    "plt.ylabel('t_23')\n",
    "plt.xlabel('MCMC Iteration')\n",
    "plt.plot(b_msm.all_transmats_[:, 2, 3])\n",
    "plt.axhline(mle_msm.transmat_[2, 3], c='k')\n",
    "plt.show()"
   ]
  },
  {
   "cell_type": "code",
   "execution_count": null,
   "metadata": {
    "collapsed": false
   },
   "outputs": [],
   "source": [
    "plt.plot(b_msm.all_timescales_[:, 0], label='MCMC')\n",
    "plt.axhline(mle_msm.timescales_[0], c='k', label='MLE')\n",
    "plt.legend(loc='best')\n",
    "plt.ylabel('Longest timescale')\n",
    "plt.xlabel('MCMC iteration')\n",
    "plt.show()"
   ]
  },
  {
   "cell_type": "markdown",
   "metadata": {},
   "source": [
    "# Now lets try using 50 states\n",
    "\n",
    "The MCMC sampling is a lot harder to converge"
   ]
  },
  {
   "cell_type": "code",
   "execution_count": null,
   "metadata": {
    "collapsed": false
   },
   "outputs": [],
   "source": [
    "clusterer = NDGrid(n_bins_per_feature=50)\n",
    "mle_msm = MarkovStateModel(lag_time=100)\n",
    "b_msm = BayesianMarkovStateModel(lag_time=100, n_samples=1000, n_steps=100000)\n",
    "\n",
    "states = clusterer.fit_transform(trjs)\n",
    "with timing('running mcmc (50 states)'):\n",
    "    b_msm.fit(states)\n",
    "\n",
    "mle_msm.fit(states)"
   ]
  },
  {
   "cell_type": "code",
   "execution_count": null,
   "metadata": {
    "collapsed": false
   },
   "outputs": [],
   "source": [
    "plt.plot(b_msm.all_timescales_[:, 0], label='MCMC')\n",
    "plt.axhline(mle_msm.timescales_[0], c='k', label='MLE')\n",
    "plt.legend(loc='best')\n",
    "plt.ylabel('Longest timescale')\n",
    "plt.xlabel('MCMC iteration')"
   ]
  },
  {
   "cell_type": "code",
   "execution_count": null,
   "metadata": {
    "collapsed": false
   },
   "outputs": [],
   "source": [
    "plt.plot(b_msm.all_transmats_[:, 0, 0], label='MCMC')\n",
    "plt.axhline(mle_msm.transmat_[0, 0], c='k', label='MLE')\n",
    "plt.legend(loc='best')\n",
    "plt.ylabel('t_00')\n",
    "plt.xlabel('MCMC iteration')"
   ]
  }
 ],
 "metadata": {
  "kernelspec": {
   "display_name": "Python 3",
   "language": "python",
   "name": "python3"
  },
  "language_info": {
   "codemirror_mode": {
    "name": "ipython",
    "version": 3
   },
   "file_extension": ".py",
   "mimetype": "text/x-python",
   "name": "python",
   "nbconvert_exporter": "python",
   "pygments_lexer": "ipython3",
   "version": "3.6.4"
  }
 },
 "nbformat": 4,
 "nbformat_minor": 2
}
