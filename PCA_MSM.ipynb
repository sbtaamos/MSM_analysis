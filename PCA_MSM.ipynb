{
 "cells": [
  {
   "cell_type": "code",
   "execution_count": 2,
   "metadata": {},
   "outputs": [
    {
     "name": "stderr",
     "output_type": "stream",
     "text": [
      "/Users/sbamos/anaconda3/lib/python3.6/site-packages/sklearn/cross_validation.py:41: DeprecationWarning: This module was deprecated in version 0.18 in favor of the model_selection module into which all the refactored classes and functions are moved. Also note that the interface of the new CV iterators are different from that of this module. This module will be removed in 0.20.\n",
      "  \"This module will be removed in 0.20.\", DeprecationWarning)\n",
      "/Users/sbamos/anaconda3/lib/python3.6/site-packages/sklearn/grid_search.py:42: DeprecationWarning: This module was deprecated in version 0.18 in favor of the model_selection module into which all the refactored classes and functions are moved. This module will be removed in 0.20.\n",
      "  DeprecationWarning)\n",
      "/Users/sbamos/anaconda3/lib/python3.6/site-packages/statsmodels/compat/pandas.py:56: FutureWarning: The pandas.core.datetools module is deprecated and will be removed in a future version. Please use the pandas.tseries module instead.\n",
      "  from pandas.core import datetools\n",
      "/Users/sbamos/anaconda3/lib/python3.6/site-packages/seaborn/apionly.py:6: UserWarning: As seaborn no longer sets a default style on import, the seaborn.apionly module is deprecated. It will be removed in a future version.\n",
      "  warnings.warn(msg, UserWarning)\n"
     ]
    }
   ],
   "source": [
    "%matplotlib inline\n",
    "\n",
    "\n",
    "from msmbuilder.featurizer import DihedralFeaturizer\n",
    "from msmbuilder.decomposition import PCA\n",
    "from msmbuilder.preprocessing import RobustScaler\n",
    "#from msmbuilder.cluster import MiniBatchKMeans\n",
    "from msmbuilder.cluster import KCenters\n",
    "from msmbuilder.msm import MarkovStateModel\n",
    "from msmbuilder.io.sampling import sample_dimension\n",
    "from msmbuilder.io import load_trajs, save_generic, preload_top, backup\n",
    "\n",
    "import numpy as np\n",
    "\n",
    "import msmexplorer as msme\n",
    "\n",
    "rs = np.random.RandomState(42)"
   ]
  },
  {
   "cell_type": "code",
   "execution_count": 3,
   "metadata": {},
   "outputs": [
    {
     "name": "stdout",
     "output_type": "stream",
     "text": [
      "/Users/sbamos/Documents/WORK/MSM\n",
      "<mdtraj.Trajectory with 5001 frames, 447 atoms, 41 residues, and unitcells>\n",
      "<mdtraj.Trajectory with 5001 frames, 447 atoms, 41 residues, and unitcells>\n",
      "<mdtraj.Trajectory with 5001 frames, 447 atoms, 41 residues, and unitcells>\n",
      "<mdtraj.Trajectory with 5001 frames, 447 atoms, 41 residues, and unitcells>\n",
      "<mdtraj.Trajectory with 5001 frames, 447 atoms, 41 residues, and unitcells>\n"
     ]
    }
   ],
   "source": [
    "from msmbuilder.dataset import dataset\n",
    "import os\n",
    "import mdtraj as mdt\n",
    "import glob\n",
    "\n",
    "\n",
    "cwd = os.getcwd()\n",
    "print(cwd)\n",
    "\n",
    "## Load\n",
    "trajs = dataset(\"*SC*.xtc\", topology=\"md.loop_SC_start.gro\")\n",
    "    \n",
    "for traj in trajs:\n",
    "    print(traj)"
   ]
  },
  {
   "cell_type": "code",
   "execution_count": null,
   "metadata": {},
   "outputs": [],
   "source": [
    "featurizer = DihedralFeaturizer(types=['phi', 'psi'])\n",
    "diheds = featurizer.fit_transform(trajs)\n",
    "\n",
    "print(np.shape(trajs))"
   ]
  },
  {
   "cell_type": "code",
   "execution_count": null,
   "metadata": {},
   "outputs": [],
   "source": [
    "scaler = RobustScaler()\n",
    "scaled_data = scaler.fit_transform(diheds)"
   ]
  },
  {
   "cell_type": "code",
   "execution_count": null,
   "metadata": {},
   "outputs": [],
   "source": [
    "pca_model = PCA(n_components=2)\n",
    "pca_trajs = pca_model.fit_transform(scaled_data)\n",
    "\n",
    "ax, side_ax = msme.plot_trace(pca_trajs[0][:, 0], window=10,\n",
    "                              label='PC1', xlabel='Timestep')\n",
    "_ = msme.plot_trace(pca_trajs[0][:, 1], window=10, label='PC2',\n",
    "                    xlabel='Timestep', color='rawdenim', ax=ax,\n",
    "                    side_ax=side_ax)"
   ]
  },
  {
   "cell_type": "code",
   "execution_count": null,
   "metadata": {},
   "outputs": [],
   "source": [
    "pca_model = PCA(n_components=5)\n",
    "pca_trajs = pca_model.fit_transform(scaled_data)\n",
    "\n",
    "ax, side_ax = msme.plot_trace(pca_trajs[0][:, 0], window=10,\n",
    "                              label='PC1', xlabel='Timestep')\n",
    "_ = msme.plot_trace(pca_trajs[0][:, 1], window=10, label='PC2',\n",
    "                    xlabel='Timestep', color='rawdenim', ax=ax,\n",
    "                    side_ax=side_ax)\n",
    "__ = msme.plot_trace(pca_trajs[0][:, 2], window=10, label='PC3',\n",
    "                    xlabel='Timestep', color='dijon', ax=ax,\n",
    "                    side_ax=side_ax)\n",
    "___ = msme.plot_trace(pca_trajs[0][:, 3], window=10, label='PC4',\n",
    "                    xlabel='Timestep', color='carbon', ax=ax,\n",
    "                    side_ax=side_ax)\n",
    "____ = msme.plot_trace(pca_trajs[0][:, 4], window=10, label='PC5',\n",
    "                    xlabel='Timestep', color='pomegranate', ax=ax,\n",
    "                    side_ax=side_ax)"
   ]
  },
  {
   "cell_type": "code",
   "execution_count": null,
   "metadata": {},
   "outputs": [],
   "source": [
    "%matplotlib inline\n",
    "import msmexplorer as msme\n",
    "import numpy as np\n",
    "txx = np.concatenate(pca_trajs)\n",
    "_ = msme.plot_histogram(txx, labels=['$PC1$', '$PC2$'],\n",
    "                    show_titles=True)"
   ]
  },
  {
   "cell_type": "code",
   "execution_count": null,
   "metadata": {},
   "outputs": [],
   "source": [
    "clusterer = KCenters(n_clusters=12, random_state=rs)\n",
    "clustered_trajs = clusterer.fit_transform(pca_trajs)\n",
    "\n",
    "_ = msme.plot_voronoi(clusterer, xlabel='PC1', ylabel='PC2')"
   ]
  },
  {
   "cell_type": "code",
   "execution_count": null,
   "metadata": {},
   "outputs": [],
   "source": [
    "msm = MarkovStateModel(lag_time=100, n_timescales=5)\n",
    "assigns = msm.fit_transform(clustered_trajs)\n",
    "\n",
    "_ = msme.plot_pop_resids(msm, color='tarragon')"
   ]
  },
  {
   "cell_type": "code",
   "execution_count": null,
   "metadata": {},
   "outputs": [],
   "source": [
    "_ = msme.plot_timescales(msm, ylabel=r'Relaxation Time (frames)')"
   ]
  },
  {
   "cell_type": "code",
   "execution_count": null,
   "metadata": {},
   "outputs": [],
   "source": [
    "msm_list = [\n",
    "    MarkovStateModel(lag_time=x, n_timescales=5, verbose=False)\n",
    "                     for x in [1, 5, 25, 125]\n",
    "]\n",
    "\n",
    "for msm in msm_list:\n",
    "    msm.fit(clustered_trajs)"
   ]
  },
  {
   "cell_type": "code",
   "execution_count": null,
   "metadata": {},
   "outputs": [],
   "source": [
    "_ = msme.plot_implied_timescales(msm_list,\n",
    "                                  xlabel=r'$\\tau$ (frames)',\n",
    "                                  ylabel='Relaxation Times (frames)')"
   ]
  },
  {
   "cell_type": "code",
   "execution_count": null,
   "metadata": {},
   "outputs": [],
   "source": [
    "msm = msm_list[2]  # Choose the appropriate MSM from the list\n",
    "\n",
    "msm = MarkovStateModel(lag_time=40, n_timescales=5)\n",
    "assigns = msm.fit_transform(clustered_trajs)"
   ]
  },
  {
   "cell_type": "code",
   "execution_count": null,
   "metadata": {},
   "outputs": [],
   "source": [
    "for i, (ts, ts_u) in enumerate(zip(msm.timescales_, msm.uncertainty_timescales())):\n",
    "    timescale_ns = ts * 50 / 1000\n",
    "    uncertainty_ns = ts_u * 50 / 1000\n",
    "    print('Timescale %d: %.2f ± %.2f ns' % ((i + 1), timescale_ns, uncertainty_ns))"
   ]
  },
  {
   "cell_type": "code",
   "execution_count": null,
   "metadata": {},
   "outputs": [],
   "source": [
    "data = np.concatenate(pca_trajs, axis=0)\n",
    "pi_0 = msm.populations_[np.concatenate(assigns, axis=0)]\n",
    "\n",
    "\n",
    "# Free Energy Surface\n",
    "ax = msme.plot_free_energy(data, obs=(0, 1), n_samples=10000,\n",
    "                          pi=pi_0, gridsize=100, vmax=5.,\n",
    "                          n_levels=8, cut=5, xlabel='PC1',\n",
    "                          ylabel='PC2', random_state=rs)\n",
    "\n",
    "# MSM Network\n",
    "pos = dict(zip(range(clusterer.n_clusters), clusterer.cluster_centers_))\n",
    "_ = msme.plot_msm_network(msm, pos=pos, node_color='carbon',\n",
    "                          with_labels=False)\n",
    "\n",
    "\n",
    "# Top Transition Pathway\n",
    "w = (msm.left_eigenvectors_[:, 1] - msm.left_eigenvectors_[:, 1].min())\n",
    "w /= w.max()\n",
    "cmap = msme.utils.make_colormap(['rawdenim', 'lightgrey', 'pomegranate'])\n",
    "_ = msme.plot_tpaths(msm, [1], [0], pos=pos, node_color=cmap(w),\n",
    "                     alpha=.9, edge_color='black', ax=ax)"
   ]
  },
  {
   "cell_type": "code",
   "execution_count": null,
   "metadata": {},
   "outputs": [],
   "source": []
  },
  {
   "cell_type": "markdown",
   "metadata": {},
   "source": [
    "Save coordinates"
   ]
  },
  {
   "cell_type": "code",
   "execution_count": null,
   "metadata": {},
   "outputs": [],
   "source": [
    "from msmbuilder.io import gather_metadata, save_meta, NumberedRunsParser\n",
    "\n",
    "## Construct and save the dataframe\n",
    "parser = NumberedRunsParser(\n",
    "    traj_fmt=\"md.loop_SC_{run}.xtc\",\n",
    "    top_fn=\"md.loop_SC_start.gro\",\n",
    "    step_ps=100,\n",
    ")\n",
    "meta = gather_metadata(\"*SC*.xtc\", parser)\n",
    "save_meta(meta)\n",
    "\n",
    "print(meta)\n",
    "print(trajs)\n"
   ]
  },
  {
   "cell_type": "code",
   "execution_count": null,
   "metadata": {},
   "outputs": [],
   "source": [
    "meta, ttrajs = load_trajs('trajs', meta=meta)"
   ]
  },
  {
   "cell_type": "code",
   "execution_count": null,
   "metadata": {},
   "outputs": [],
   "source": []
  }
 ],
 "metadata": {
  "kernelspec": {
   "display_name": "Python 3",
   "language": "python",
   "name": "python3"
  },
  "language_info": {
   "codemirror_mode": {
    "name": "ipython",
    "version": 3
   },
   "file_extension": ".py",
   "mimetype": "text/x-python",
   "name": "python",
   "nbconvert_exporter": "python",
   "pygments_lexer": "ipython3",
   "version": "3.6.4"
  }
 },
 "nbformat": 4,
 "nbformat_minor": 2
}
